{
 "cells": [
  {
   "cell_type": "code",
   "execution_count": 1,
   "metadata": {},
   "outputs": [],
   "source": [
    "import pandas as pd\n",
    "import numpy as np\n",
    "import seaborn as sb\n",
    "import matplotlib.pyplot as plt\n",
    "import sklearn\n",
    "\n",
    "import arrow\n",
    "import datetime as dt\n",
    "from sklearn.utils import resample \n",
    "from pylab import rcParams\n",
    "from sklearn import preprocessing\n",
    "from sklearn.linear_model import LogisticRegression\n",
    "from sklearn.model_selection import train_test_split\n",
    "from sklearn import metrics \n",
    "from sklearn import ensemble\n",
    "from sklearn.metrics import classification_report, confusion_matrix, accuracy_score\n",
    "import pickle"
   ]
  },
  {
   "cell_type": "code",
   "execution_count": 2,
   "metadata": {},
   "outputs": [],
   "source": [
    "%matplotlib inline\n",
    "rcParams['figure.figsize'] = 10, 8\n",
    "sb.set_style('whitegrid')"
   ]
  },
  {
   "cell_type": "code",
   "execution_count": 3,
   "metadata": {},
   "outputs": [],
   "source": [
    "comp = pd.read_csv('comp_filter.csv')"
   ]
  },
  {
   "cell_type": "code",
   "execution_count": 4,
   "metadata": {},
   "outputs": [
    {
     "data": {
      "text/html": [
       "<div>\n",
       "<style scoped>\n",
       "    .dataframe tbody tr th:only-of-type {\n",
       "        vertical-align: middle;\n",
       "    }\n",
       "\n",
       "    .dataframe tbody tr th {\n",
       "        vertical-align: top;\n",
       "    }\n",
       "\n",
       "    .dataframe thead th {\n",
       "        text-align: right;\n",
       "    }\n",
       "</style>\n",
       "<table border=\"1\" class=\"dataframe\">\n",
       "  <thead>\n",
       "    <tr style=\"text-align: right;\">\n",
       "      <th></th>\n",
       "      <th>permalink</th>\n",
       "      <th>name</th>\n",
       "      <th>homepage_url</th>\n",
       "      <th>category_list</th>\n",
       "      <th>funding_total_usd</th>\n",
       "      <th>status</th>\n",
       "      <th>country_code</th>\n",
       "      <th>state_code</th>\n",
       "      <th>region</th>\n",
       "      <th>city</th>\n",
       "      <th>funding_rounds</th>\n",
       "      <th>founded_at</th>\n",
       "      <th>first_funding_at</th>\n",
       "      <th>last_funding_at</th>\n",
       "      <th>label</th>\n",
       "    </tr>\n",
       "  </thead>\n",
       "  <tbody>\n",
       "    <tr>\n",
       "      <th>0</th>\n",
       "      <td>/organization/-fame</td>\n",
       "      <td>#fame</td>\n",
       "      <td>http://livfame.com</td>\n",
       "      <td>Media</td>\n",
       "      <td>10000000</td>\n",
       "      <td>operating</td>\n",
       "      <td>IND</td>\n",
       "      <td>16</td>\n",
       "      <td>Mumbai</td>\n",
       "      <td>Mumbai</td>\n",
       "      <td>1</td>\n",
       "      <td>NaN</td>\n",
       "      <td>2015-01-05</td>\n",
       "      <td>2015-01-05</td>\n",
       "      <td>0</td>\n",
       "    </tr>\n",
       "    <tr>\n",
       "      <th>1</th>\n",
       "      <td>/organization/-qounter</td>\n",
       "      <td>:Qounter</td>\n",
       "      <td>http://www.qounter.com</td>\n",
       "      <td>Application Platforms|Real Time|Social Network...</td>\n",
       "      <td>700000</td>\n",
       "      <td>operating</td>\n",
       "      <td>USA</td>\n",
       "      <td>DE</td>\n",
       "      <td>DE - Other</td>\n",
       "      <td>Delaware City</td>\n",
       "      <td>2</td>\n",
       "      <td>2014-09-04</td>\n",
       "      <td>2014-03-01</td>\n",
       "      <td>2014-10-14</td>\n",
       "      <td>0</td>\n",
       "    </tr>\n",
       "    <tr>\n",
       "      <th>2</th>\n",
       "      <td>/organization/-the-one-of-them-inc-</td>\n",
       "      <td>(THE) ONE of THEM,Inc.</td>\n",
       "      <td>http://oneofthem.jp</td>\n",
       "      <td>Apps|Games|Mobile</td>\n",
       "      <td>3406878</td>\n",
       "      <td>operating</td>\n",
       "      <td>NaN</td>\n",
       "      <td>NaN</td>\n",
       "      <td>NaN</td>\n",
       "      <td>NaN</td>\n",
       "      <td>1</td>\n",
       "      <td>NaN</td>\n",
       "      <td>2014-01-30</td>\n",
       "      <td>2014-01-30</td>\n",
       "      <td>0</td>\n",
       "    </tr>\n",
       "    <tr>\n",
       "      <th>3</th>\n",
       "      <td>/organization/0-6-com</td>\n",
       "      <td>0-6.com</td>\n",
       "      <td>http://www.0-6.com</td>\n",
       "      <td>Curated Web</td>\n",
       "      <td>2000000</td>\n",
       "      <td>operating</td>\n",
       "      <td>CHN</td>\n",
       "      <td>22</td>\n",
       "      <td>Beijing</td>\n",
       "      <td>Beijing</td>\n",
       "      <td>1</td>\n",
       "      <td>2007-01-01</td>\n",
       "      <td>2008-03-19</td>\n",
       "      <td>2008-03-19</td>\n",
       "      <td>0</td>\n",
       "    </tr>\n",
       "    <tr>\n",
       "      <th>4</th>\n",
       "      <td>/organization/004-technologies</td>\n",
       "      <td>004 Technologies</td>\n",
       "      <td>http://004gmbh.de/en/004-interact</td>\n",
       "      <td>Software</td>\n",
       "      <td>-</td>\n",
       "      <td>operating</td>\n",
       "      <td>USA</td>\n",
       "      <td>IL</td>\n",
       "      <td>Springfield, Illinois</td>\n",
       "      <td>Champaign</td>\n",
       "      <td>1</td>\n",
       "      <td>2010-01-01</td>\n",
       "      <td>2014-07-24</td>\n",
       "      <td>2014-07-24</td>\n",
       "      <td>0</td>\n",
       "    </tr>\n",
       "    <tr>\n",
       "      <th>...</th>\n",
       "      <td>...</td>\n",
       "      <td>...</td>\n",
       "      <td>...</td>\n",
       "      <td>...</td>\n",
       "      <td>...</td>\n",
       "      <td>...</td>\n",
       "      <td>...</td>\n",
       "      <td>...</td>\n",
       "      <td>...</td>\n",
       "      <td>...</td>\n",
       "      <td>...</td>\n",
       "      <td>...</td>\n",
       "      <td>...</td>\n",
       "      <td>...</td>\n",
       "      <td>...</td>\n",
       "    </tr>\n",
       "    <tr>\n",
       "      <th>66292</th>\n",
       "      <td>/organization/zznode-science-and-technology-co...</td>\n",
       "      <td>ZZNode Science and Technology</td>\n",
       "      <td>http://www.zznode.com</td>\n",
       "      <td>Enterprise Software</td>\n",
       "      <td>1587301</td>\n",
       "      <td>operating</td>\n",
       "      <td>CHN</td>\n",
       "      <td>22</td>\n",
       "      <td>Beijing</td>\n",
       "      <td>Beijing</td>\n",
       "      <td>1</td>\n",
       "      <td>NaN</td>\n",
       "      <td>2012-04-01</td>\n",
       "      <td>2012-04-01</td>\n",
       "      <td>0</td>\n",
       "    </tr>\n",
       "    <tr>\n",
       "      <th>66293</th>\n",
       "      <td>/organization/zzzzapp-com</td>\n",
       "      <td>Zzzzapp Wireless ltd.</td>\n",
       "      <td>http://www.zzzzapp.com</td>\n",
       "      <td>Advertising|Mobile|Web Development|Wireless</td>\n",
       "      <td>114304</td>\n",
       "      <td>operating</td>\n",
       "      <td>HRV</td>\n",
       "      <td>15</td>\n",
       "      <td>Split</td>\n",
       "      <td>Split</td>\n",
       "      <td>4</td>\n",
       "      <td>2012-05-13</td>\n",
       "      <td>2011-11-01</td>\n",
       "      <td>2014-03-01</td>\n",
       "      <td>0</td>\n",
       "    </tr>\n",
       "    <tr>\n",
       "      <th>66294</th>\n",
       "      <td>/organization/Áeron</td>\n",
       "      <td>ÁERON</td>\n",
       "      <td>http://www.aeron.hu/</td>\n",
       "      <td>NaN</td>\n",
       "      <td>-</td>\n",
       "      <td>operating</td>\n",
       "      <td>NaN</td>\n",
       "      <td>NaN</td>\n",
       "      <td>NaN</td>\n",
       "      <td>NaN</td>\n",
       "      <td>1</td>\n",
       "      <td>2011-01-01</td>\n",
       "      <td>2014-08-01</td>\n",
       "      <td>2014-08-01</td>\n",
       "      <td>0</td>\n",
       "    </tr>\n",
       "    <tr>\n",
       "      <th>66295</th>\n",
       "      <td>/organization/Ôasys-2</td>\n",
       "      <td>Ôasys</td>\n",
       "      <td>http://www.oasys.io/</td>\n",
       "      <td>Consumer Electronics|Internet of Things|Teleco...</td>\n",
       "      <td>18192</td>\n",
       "      <td>operating</td>\n",
       "      <td>USA</td>\n",
       "      <td>CA</td>\n",
       "      <td>SF Bay Area</td>\n",
       "      <td>San Francisco</td>\n",
       "      <td>1</td>\n",
       "      <td>2014-01-01</td>\n",
       "      <td>2015-01-01</td>\n",
       "      <td>2015-01-01</td>\n",
       "      <td>0</td>\n",
       "    </tr>\n",
       "    <tr>\n",
       "      <th>66296</th>\n",
       "      <td>/organization/İnovatiff-reklam-ve-tanıtım-hizm...</td>\n",
       "      <td>İnovatiff Reklam ve Tanıtım Hizmetleri Tic</td>\n",
       "      <td>http://inovatiff.com</td>\n",
       "      <td>Consumer Goods|E-Commerce|Internet</td>\n",
       "      <td>14851</td>\n",
       "      <td>operating</td>\n",
       "      <td>NaN</td>\n",
       "      <td>NaN</td>\n",
       "      <td>NaN</td>\n",
       "      <td>NaN</td>\n",
       "      <td>1</td>\n",
       "      <td>NaN</td>\n",
       "      <td>2013-10-01</td>\n",
       "      <td>2013-10-01</td>\n",
       "      <td>0</td>\n",
       "    </tr>\n",
       "  </tbody>\n",
       "</table>\n",
       "<p>66297 rows × 15 columns</p>\n",
       "</div>"
      ],
      "text/plain": [
       "                                               permalink  \\\n",
       "0                                    /organization/-fame   \n",
       "1                                 /organization/-qounter   \n",
       "2                    /organization/-the-one-of-them-inc-   \n",
       "3                                  /organization/0-6-com   \n",
       "4                         /organization/004-technologies   \n",
       "...                                                  ...   \n",
       "66292  /organization/zznode-science-and-technology-co...   \n",
       "66293                          /organization/zzzzapp-com   \n",
       "66294                                /organization/Áeron   \n",
       "66295                              /organization/Ôasys-2   \n",
       "66296  /organization/İnovatiff-reklam-ve-tanıtım-hizm...   \n",
       "\n",
       "                                             name  \\\n",
       "0                                           #fame   \n",
       "1                                        :Qounter   \n",
       "2                          (THE) ONE of THEM,Inc.   \n",
       "3                                         0-6.com   \n",
       "4                                004 Technologies   \n",
       "...                                           ...   \n",
       "66292               ZZNode Science and Technology   \n",
       "66293                       Zzzzapp Wireless ltd.   \n",
       "66294                                       ÁERON   \n",
       "66295                                       Ôasys   \n",
       "66296  İnovatiff Reklam ve Tanıtım Hizmetleri Tic   \n",
       "\n",
       "                            homepage_url  \\\n",
       "0                     http://livfame.com   \n",
       "1                 http://www.qounter.com   \n",
       "2                    http://oneofthem.jp   \n",
       "3                     http://www.0-6.com   \n",
       "4      http://004gmbh.de/en/004-interact   \n",
       "...                                  ...   \n",
       "66292              http://www.zznode.com   \n",
       "66293             http://www.zzzzapp.com   \n",
       "66294               http://www.aeron.hu/   \n",
       "66295               http://www.oasys.io/   \n",
       "66296               http://inovatiff.com   \n",
       "\n",
       "                                           category_list funding_total_usd  \\\n",
       "0                                                  Media          10000000   \n",
       "1      Application Platforms|Real Time|Social Network...            700000   \n",
       "2                                      Apps|Games|Mobile           3406878   \n",
       "3                                            Curated Web           2000000   \n",
       "4                                               Software                 -   \n",
       "...                                                  ...               ...   \n",
       "66292                                Enterprise Software           1587301   \n",
       "66293        Advertising|Mobile|Web Development|Wireless            114304   \n",
       "66294                                                NaN                 -   \n",
       "66295  Consumer Electronics|Internet of Things|Teleco...             18192   \n",
       "66296                 Consumer Goods|E-Commerce|Internet             14851   \n",
       "\n",
       "          status country_code state_code                 region  \\\n",
       "0      operating          IND         16                 Mumbai   \n",
       "1      operating          USA         DE             DE - Other   \n",
       "2      operating          NaN        NaN                    NaN   \n",
       "3      operating          CHN         22                Beijing   \n",
       "4      operating          USA         IL  Springfield, Illinois   \n",
       "...          ...          ...        ...                    ...   \n",
       "66292  operating          CHN         22                Beijing   \n",
       "66293  operating          HRV         15                  Split   \n",
       "66294  operating          NaN        NaN                    NaN   \n",
       "66295  operating          USA         CA            SF Bay Area   \n",
       "66296  operating          NaN        NaN                    NaN   \n",
       "\n",
       "                city  funding_rounds  founded_at first_funding_at  \\\n",
       "0             Mumbai               1         NaN       2015-01-05   \n",
       "1      Delaware City               2  2014-09-04       2014-03-01   \n",
       "2                NaN               1         NaN       2014-01-30   \n",
       "3            Beijing               1  2007-01-01       2008-03-19   \n",
       "4          Champaign               1  2010-01-01       2014-07-24   \n",
       "...              ...             ...         ...              ...   \n",
       "66292        Beijing               1         NaN       2012-04-01   \n",
       "66293          Split               4  2012-05-13       2011-11-01   \n",
       "66294            NaN               1  2011-01-01       2014-08-01   \n",
       "66295  San Francisco               1  2014-01-01       2015-01-01   \n",
       "66296            NaN               1         NaN       2013-10-01   \n",
       "\n",
       "      last_funding_at  label  \n",
       "0          2015-01-05      0  \n",
       "1          2014-10-14      0  \n",
       "2          2014-01-30      0  \n",
       "3          2008-03-19      0  \n",
       "4          2014-07-24      0  \n",
       "...               ...    ...  \n",
       "66292      2012-04-01      0  \n",
       "66293      2014-03-01      0  \n",
       "66294      2014-08-01      0  \n",
       "66295      2015-01-01      0  \n",
       "66296      2013-10-01      0  \n",
       "\n",
       "[66297 rows x 15 columns]"
      ]
     },
     "execution_count": 4,
     "metadata": {},
     "output_type": "execute_result"
    }
   ],
   "source": [
    "comp"
   ]
  },
  {
   "cell_type": "code",
   "execution_count": 5,
   "metadata": {},
   "outputs": [
    {
     "name": "stdout",
     "output_type": "stream",
     "text": [
      "<class 'pandas.core.frame.DataFrame'>\n",
      "RangeIndex: 66297 entries, 0 to 66296\n",
      "Data columns (total 15 columns):\n",
      " #   Column             Non-Null Count  Dtype \n",
      "---  ------             --------------  ----- \n",
      " 0   permalink          66297 non-null  object\n",
      " 1   name               66296 non-null  object\n",
      " 2   homepage_url       61259 non-null  object\n",
      " 3   category_list      63165 non-null  object\n",
      " 4   funding_total_usd  66297 non-null  object\n",
      " 5   status             66297 non-null  object\n",
      " 6   country_code       59351 non-null  object\n",
      " 7   state_code         57764 non-null  object\n",
      " 8   region             58281 non-null  object\n",
      " 9   city               58283 non-null  object\n",
      " 10  funding_rounds     66297 non-null  int64 \n",
      " 11  founded_at         51093 non-null  object\n",
      " 12  first_funding_at   66297 non-null  object\n",
      " 13  last_funding_at    66297 non-null  object\n",
      " 14  label              66297 non-null  int64 \n",
      "dtypes: int64(2), object(13)\n",
      "memory usage: 7.6+ MB\n"
     ]
    }
   ],
   "source": [
    "comp.info()"
   ]
  },
  {
   "cell_type": "code",
   "execution_count": 6,
   "metadata": {},
   "outputs": [],
   "source": [
    "# convert '-' to NAN in comp['funding_total_usd']:\n",
    "comp['funding_total_usd'] = pd.to_numeric(comp['funding_total_usd'], errors='coerce')"
   ]
  },
  {
   "cell_type": "code",
   "execution_count": 7,
   "metadata": {},
   "outputs": [],
   "source": [
    "# select meaningful features\n",
    "comp_data = comp[['name','funding_total_usd','country_code','funding_rounds',#'founded_at',\n",
    "                  'first_funding_at','last_funding_at','category_list','label']]"
   ]
  },
  {
   "cell_type": "code",
   "execution_count": 8,
   "metadata": {},
   "outputs": [
    {
     "data": {
      "text/plain": [
       "name                     1\n",
       "funding_total_usd    12759\n",
       "country_code          6946\n",
       "funding_rounds           0\n",
       "first_funding_at         0\n",
       "last_funding_at          0\n",
       "category_list         3132\n",
       "label                    0\n",
       "dtype: int64"
      ]
     },
     "execution_count": 8,
     "metadata": {},
     "output_type": "execute_result"
    }
   ],
   "source": [
    "comp_data.isnull().sum()"
   ]
  },
  {
   "cell_type": "code",
   "execution_count": 9,
   "metadata": {},
   "outputs": [
    {
     "name": "stderr",
     "output_type": "stream",
     "text": [
      "C:\\Users\\ADMIN\\AppData\\Local\\Temp\\ipykernel_20120\\60160544.py:2: SettingWithCopyWarning: \n",
      "A value is trying to be set on a copy of a slice from a DataFrame\n",
      "\n",
      "See the caveats in the documentation: https://pandas.pydata.org/pandas-docs/stable/user_guide/indexing.html#returning-a-view-versus-a-copy\n",
      "  comp_data.dropna(inplace=True)\n"
     ]
    }
   ],
   "source": [
    "# filter out all the nan data\n",
    "comp_data.dropna(inplace=True)"
   ]
  },
  {
   "cell_type": "code",
   "execution_count": 10,
   "metadata": {},
   "outputs": [
    {
     "data": {
      "text/plain": [
       "name                 0\n",
       "funding_total_usd    0\n",
       "country_code         0\n",
       "funding_rounds       0\n",
       "first_funding_at     0\n",
       "last_funding_at      0\n",
       "category_list        0\n",
       "label                0\n",
       "dtype: int64"
      ]
     },
     "execution_count": 10,
     "metadata": {},
     "output_type": "execute_result"
    }
   ],
   "source": [
    "comp_data.isnull().sum()"
   ]
  },
  {
   "cell_type": "code",
   "execution_count": 11,
   "metadata": {},
   "outputs": [
    {
     "data": {
      "text/plain": [
       "0        IND\n",
       "1        USA\n",
       "3        CHN\n",
       "5        HKG\n",
       "6        CAN\n",
       "        ... \n",
       "66290    AUT\n",
       "66291    GBR\n",
       "66292    CHN\n",
       "66293    HRV\n",
       "66295    USA\n",
       "Name: country_code, Length: 48404, dtype: object"
      ]
     },
     "execution_count": 11,
     "metadata": {},
     "output_type": "execute_result"
    }
   ],
   "source": [
    "comp_data['country_code']"
   ]
  },
  {
   "cell_type": "code",
   "execution_count": 12,
   "metadata": {},
   "outputs": [
    {
     "name": "stdout",
     "output_type": "stream",
     "text": [
      "<class 'pandas.core.frame.DataFrame'>\n",
      "Int64Index: 48404 entries, 0 to 66295\n",
      "Data columns (total 8 columns):\n",
      " #   Column             Non-Null Count  Dtype  \n",
      "---  ------             --------------  -----  \n",
      " 0   name               48404 non-null  object \n",
      " 1   funding_total_usd  48404 non-null  float64\n",
      " 2   country_code       48404 non-null  object \n",
      " 3   funding_rounds     48404 non-null  int64  \n",
      " 4   first_funding_at   48404 non-null  object \n",
      " 5   last_funding_at    48404 non-null  object \n",
      " 6   category_list      48404 non-null  object \n",
      " 7   label              48404 non-null  int64  \n",
      "dtypes: float64(1), int64(2), object(5)\n",
      "memory usage: 3.3+ MB\n"
     ]
    }
   ],
   "source": [
    "comp_data.info()"
   ]
  },
  {
   "cell_type": "code",
   "execution_count": 13,
   "metadata": {},
   "outputs": [],
   "source": [
    "# comp_data.head(10)\n",
    "# comp_data is a clean dataset and ready to use!!!"
   ]
  },
  {
   "cell_type": "code",
   "execution_count": null,
   "metadata": {},
   "outputs": [],
   "source": []
  },
  {
   "cell_type": "code",
   "execution_count": 14,
   "metadata": {},
   "outputs": [
    {
     "data": {
      "image/png": "[encoded data removed]",
      "text/plain": [
       "<Figure size 1000x800 with 1 Axes>"
      ]
     },
     "metadata": {},
     "output_type": "display_data"
    }
   ],
   "source": [
    "label = sb.countplot(x='label',data=comp_data, palette='hls')\n",
    "fig_ = label.get_figure()\n",
    "fig_.savefig('label.png')"
   ]
  },
  {
   "cell_type": "markdown",
   "metadata": {},
   "source": [
    "# Baseline Model w/ Logistic Regression\n",
    "\n",
    "## 1.1 Logistic Regression Model w/ only numerical features"
   ]
  },
  {
   "cell_type": "code",
   "execution_count": 15,
   "metadata": {},
   "outputs": [],
   "source": [
    "# Only select the numerical data as features\n",
    "logReg_data = comp_data[['funding_total_usd','funding_rounds','label']]"
   ]
  },
  {
   "cell_type": "code",
   "execution_count": 16,
   "metadata": {},
   "outputs": [
    {
     "data": {
      "text/plain": [
       "5976"
      ]
     },
     "execution_count": 16,
     "metadata": {},
     "output_type": "execute_result"
    }
   ],
   "source": [
    "logReg_data.label.value_counts()[1]"
   ]
  },
  {
   "cell_type": "code",
   "execution_count": 17,
   "metadata": {},
   "outputs": [],
   "source": [
    "# handling with the imbalance data problem\n",
    "def balance(df):\n",
    "    \n",
    "    # Separate majority and minority classes\n",
    "    df_majority = df[df.label==0]\n",
    "    df_minority = df[df.label==1]\n",
    "    \n",
    "    # n is the number of minority class (label = 1)\n",
    "    n = df.label.value_counts()[1]\n",
    "\n",
    "    # # Upsample minority class\n",
    "    # df_minority_upsampled = resample(df_minority, \n",
    "    #                                  replace=True,     # sample with replacement\n",
    "    #                                  n_samples=47312,    # to match majority class\n",
    "    #                                  random_state=123) # reproducible results\n",
    "\n",
    "    # downsample majority class\n",
    "    df_majority_downsampled = resample(df_majority, \n",
    "                                     replace=False,     # sample with replacement\n",
    "                                     n_samples=n,    # to match majority class\n",
    "                                     random_state=123) # reproducible results\n",
    "\n",
    "    # Combine majority class with upsampled minority class\n",
    "    # df_upsampled = pd.concat([df_majority, df_minority_upsampled])\n",
    "    df_downsampled = pd.concat([df_minority, df_majority_downsampled])\n",
    "    \n",
    "    return df_downsampled"
   ]
  },
  {
   "cell_type": "code",
   "execution_count": 18,
   "metadata": {},
   "outputs": [],
   "source": [
    "logReg_data_balanced = balance(logReg_data)"
   ]
  },
  {
   "cell_type": "code",
   "execution_count": 19,
   "metadata": {},
   "outputs": [
    {
     "data": {
      "text/plain": [
       "1    5976\n",
       "0    5976\n",
       "Name: label, dtype: int64"
      ]
     },
     "execution_count": 19,
     "metadata": {},
     "output_type": "execute_result"
    }
   ],
   "source": [
    "logReg_data_balanced.label.value_counts()"
   ]
  },
  {
   "cell_type": "code",
   "execution_count": null,
   "metadata": {},
   "outputs": [],
   "source": []
  },
  {
   "cell_type": "code",
   "execution_count": null,
   "metadata": {},
   "outputs": [],
   "source": []
  },
  {
   "cell_type": "code",
   "execution_count": 20,
   "metadata": {},
   "outputs": [],
   "source": [
    "X = logReg_data_balanced.iloc[:,:-1]"
   ]
  },
  {
   "cell_type": "code",
   "execution_count": 21,
   "metadata": {},
   "outputs": [],
   "source": [
    "y = logReg_data_balanced.iloc[:,-1]"
   ]
  },
  {
   "cell_type": "code",
   "execution_count": 22,
   "metadata": {},
   "outputs": [],
   "source": [
    "# conduct the feature scaling/normalization \n",
    "X_train, X_test, y_train, y_test = train_test_split(X, y, test_size=0.2, random_state=2)\n",
    "scaler = sklearn.preprocessing.StandardScaler()\n",
    "scaler.fit(X_train)\n",
    "X_train = scaler.transform(X_train)\n",
    "X_test = scaler.transform(X_test)"
   ]
  },
  {
   "cell_type": "code",
   "execution_count": 23,
   "metadata": {},
   "outputs": [
    {
     "data": {
      "text/plain": [
       "LogisticRegression()"
      ]
     },
     "execution_count": 23,
     "metadata": {},
     "output_type": "execute_result"
    }
   ],
   "source": [
    "LogReg = LogisticRegression()\n",
    "LogReg.fit(X_train, y_train)"
   ]
  },
  {
   "cell_type": "code",
   "execution_count": 24,
   "metadata": {},
   "outputs": [],
   "source": [
    "y_pred = LogReg.predict(X_test)"
   ]
  },
  {
   "cell_type": "code",
   "execution_count": 25,
   "metadata": {},
   "outputs": [
    {
     "data": {
      "text/plain": [
       "788"
      ]
     },
     "execution_count": 25,
     "metadata": {},
     "output_type": "execute_result"
    }
   ],
   "source": [
    "sum(y_pred)"
   ]
  },
  {
   "cell_type": "code",
   "execution_count": 26,
   "metadata": {},
   "outputs": [
    {
     "data": {
      "text/plain": [
       "0.5972396486825596"
      ]
     },
     "execution_count": 26,
     "metadata": {},
     "output_type": "execute_result"
    }
   ],
   "source": [
    "accuracy_score(y_test, y_pred)"
   ]
  },
  {
   "cell_type": "code",
   "execution_count": 27,
   "metadata": {},
   "outputs": [
    {
     "data": {
      "text/plain": [
       "0.6089321200711223"
      ]
     },
     "execution_count": 27,
     "metadata": {},
     "output_type": "execute_result"
    }
   ],
   "source": [
    "y_train_pred = LogReg.predict(X_train)\n",
    "accuracy_score(y_train, y_train_pred)"
   ]
  },
  {
   "cell_type": "code",
   "execution_count": 28,
   "metadata": {},
   "outputs": [
    {
     "data": {
      "image/png": "[encoded data removed]",
      "text/plain": [
       "<Figure size 1000x800 with 1 Axes>"
      ]
     },
     "metadata": {},
     "output_type": "display_data"
    }
   ],
   "source": [
    "# X_train_ = np.clip(X_train, None, 5)\n",
    "\n",
    "plt.plot(X_train[np.where(y_train == 1),0], X_train[np.where(y_train == 1),1], 'go') \n",
    "         #X_train_[np.where(y_train == 0),0], X_train_[np.where(y_train == 0),1], 'rx')\n",
    "plt.plot(X_train[np.where(y_train == 0),0], X_train[np.where(y_train == 0),1], 'rx')\n",
    "plt.savefig('LogReg_numOnly_train.png')\n",
    "plt.show()\n"
   ]
  },
  {
   "cell_type": "markdown",
   "metadata": {},
   "source": [
    "## 1.2 Logistic Regression Model w/ all features"
   ]
  },
  {
   "cell_type": "code",
   "execution_count": 29,
   "metadata": {},
   "outputs": [],
   "source": [
    "# load LogReg_data to preprocess the encoding and handle with the timestamp features\n",
    "LogReg_data = comp_data.copy()"
   ]
  },
  {
   "cell_type": "code",
   "execution_count": 30,
   "metadata": {},
   "outputs": [
    {
     "name": "stdout",
     "output_type": "stream",
     "text": [
      "<class 'pandas.core.frame.DataFrame'>\n",
      "Int64Index: 48404 entries, 0 to 66295\n",
      "Data columns (total 8 columns):\n",
      " #   Column             Non-Null Count  Dtype  \n",
      "---  ------             --------------  -----  \n",
      " 0   name               48404 non-null  object \n",
      " 1   funding_total_usd  48404 non-null  float64\n",
      " 2   country_code       48404 non-null  object \n",
      " 3   funding_rounds     48404 non-null  int64  \n",
      " 4   first_funding_at   48404 non-null  object \n",
      " 5   last_funding_at    48404 non-null  object \n",
      " 6   category_list      48404 non-null  object \n",
      " 7   label              48404 non-null  int64  \n",
      "dtypes: float64(1), int64(2), object(5)\n",
      "memory usage: 3.3+ MB\n"
     ]
    },
    {
     "data": {
      "text/html": [
       "<div>\n",
       "<style scoped>\n",
       "    .dataframe tbody tr th:only-of-type {\n",
       "        vertical-align: middle;\n",
       "    }\n",
       "\n",
       "    .dataframe tbody tr th {\n",
       "        vertical-align: top;\n",
       "    }\n",
       "\n",
       "    .dataframe thead th {\n",
       "        text-align: right;\n",
       "    }\n",
       "</style>\n",
       "<table border=\"1\" class=\"dataframe\">\n",
       "  <thead>\n",
       "    <tr style=\"text-align: right;\">\n",
       "      <th></th>\n",
       "      <th>name</th>\n",
       "      <th>funding_total_usd</th>\n",
       "      <th>country_code</th>\n",
       "      <th>funding_rounds</th>\n",
       "      <th>first_funding_at</th>\n",
       "      <th>last_funding_at</th>\n",
       "      <th>category_list</th>\n",
       "      <th>label</th>\n",
       "    </tr>\n",
       "  </thead>\n",
       "  <tbody>\n",
       "    <tr>\n",
       "      <th>0</th>\n",
       "      <td>#fame</td>\n",
       "      <td>10000000.0</td>\n",
       "      <td>IND</td>\n",
       "      <td>1</td>\n",
       "      <td>2015-01-05</td>\n",
       "      <td>2015-01-05</td>\n",
       "      <td>Media</td>\n",
       "      <td>0</td>\n",
       "    </tr>\n",
       "    <tr>\n",
       "      <th>1</th>\n",
       "      <td>:Qounter</td>\n",
       "      <td>700000.0</td>\n",
       "      <td>USA</td>\n",
       "      <td>2</td>\n",
       "      <td>2014-03-01</td>\n",
       "      <td>2014-10-14</td>\n",
       "      <td>Application Platforms|Real Time|Social Network...</td>\n",
       "      <td>0</td>\n",
       "    </tr>\n",
       "    <tr>\n",
       "      <th>3</th>\n",
       "      <td>0-6.com</td>\n",
       "      <td>2000000.0</td>\n",
       "      <td>CHN</td>\n",
       "      <td>1</td>\n",
       "      <td>2008-03-19</td>\n",
       "      <td>2008-03-19</td>\n",
       "      <td>Curated Web</td>\n",
       "      <td>0</td>\n",
       "    </tr>\n",
       "    <tr>\n",
       "      <th>5</th>\n",
       "      <td>01Games Technology</td>\n",
       "      <td>41250.0</td>\n",
       "      <td>HKG</td>\n",
       "      <td>1</td>\n",
       "      <td>2014-07-01</td>\n",
       "      <td>2014-07-01</td>\n",
       "      <td>Games</td>\n",
       "      <td>0</td>\n",
       "    </tr>\n",
       "    <tr>\n",
       "      <th>6</th>\n",
       "      <td>Ondine Biomedical Inc.</td>\n",
       "      <td>762851.0</td>\n",
       "      <td>CAN</td>\n",
       "      <td>2</td>\n",
       "      <td>2009-09-11</td>\n",
       "      <td>2009-12-21</td>\n",
       "      <td>Biotechnology</td>\n",
       "      <td>0</td>\n",
       "    </tr>\n",
       "    <tr>\n",
       "      <th>...</th>\n",
       "      <td>...</td>\n",
       "      <td>...</td>\n",
       "      <td>...</td>\n",
       "      <td>...</td>\n",
       "      <td>...</td>\n",
       "      <td>...</td>\n",
       "      <td>...</td>\n",
       "      <td>...</td>\n",
       "    </tr>\n",
       "    <tr>\n",
       "      <th>66290</th>\n",
       "      <td>Zytoprotec</td>\n",
       "      <td>2686600.0</td>\n",
       "      <td>AUT</td>\n",
       "      <td>1</td>\n",
       "      <td>2013-01-29</td>\n",
       "      <td>2013-01-29</td>\n",
       "      <td>Biotechnology</td>\n",
       "      <td>0</td>\n",
       "    </tr>\n",
       "    <tr>\n",
       "      <th>66291</th>\n",
       "      <td>Zzish</td>\n",
       "      <td>1120000.0</td>\n",
       "      <td>GBR</td>\n",
       "      <td>3</td>\n",
       "      <td>2014-03-24</td>\n",
       "      <td>2015-02-25</td>\n",
       "      <td>Analytics|Android|Developer APIs|Education|Gam...</td>\n",
       "      <td>0</td>\n",
       "    </tr>\n",
       "    <tr>\n",
       "      <th>66292</th>\n",
       "      <td>ZZNode Science and Technology</td>\n",
       "      <td>1587301.0</td>\n",
       "      <td>CHN</td>\n",
       "      <td>1</td>\n",
       "      <td>2012-04-01</td>\n",
       "      <td>2012-04-01</td>\n",
       "      <td>Enterprise Software</td>\n",
       "      <td>0</td>\n",
       "    </tr>\n",
       "    <tr>\n",
       "      <th>66293</th>\n",
       "      <td>Zzzzapp Wireless ltd.</td>\n",
       "      <td>114304.0</td>\n",
       "      <td>HRV</td>\n",
       "      <td>4</td>\n",
       "      <td>2011-11-01</td>\n",
       "      <td>2014-03-01</td>\n",
       "      <td>Advertising|Mobile|Web Development|Wireless</td>\n",
       "      <td>0</td>\n",
       "    </tr>\n",
       "    <tr>\n",
       "      <th>66295</th>\n",
       "      <td>Ôasys</td>\n",
       "      <td>18192.0</td>\n",
       "      <td>USA</td>\n",
       "      <td>1</td>\n",
       "      <td>2015-01-01</td>\n",
       "      <td>2015-01-01</td>\n",
       "      <td>Consumer Electronics|Internet of Things|Teleco...</td>\n",
       "      <td>0</td>\n",
       "    </tr>\n",
       "  </tbody>\n",
       "</table>\n",
       "<p>48404 rows × 8 columns</p>\n",
       "</div>"
      ],
      "text/plain": [
       "                                name  funding_total_usd country_code  \\\n",
       "0                              #fame         10000000.0          IND   \n",
       "1                           :Qounter           700000.0          USA   \n",
       "3                            0-6.com          2000000.0          CHN   \n",
       "5                 01Games Technology            41250.0          HKG   \n",
       "6             Ondine Biomedical Inc.           762851.0          CAN   \n",
       "...                              ...                ...          ...   \n",
       "66290                     Zytoprotec          2686600.0          AUT   \n",
       "66291                          Zzish          1120000.0          GBR   \n",
       "66292  ZZNode Science and Technology          1587301.0          CHN   \n",
       "66293          Zzzzapp Wireless ltd.           114304.0          HRV   \n",
       "66295                          Ôasys            18192.0          USA   \n",
       "\n",
       "       funding_rounds first_funding_at last_funding_at  \\\n",
       "0                   1       2015-01-05      2015-01-05   \n",
       "1                   2       2014-03-01      2014-10-14   \n",
       "3                   1       2008-03-19      2008-03-19   \n",
       "5                   1       2014-07-01      2014-07-01   \n",
       "6                   2       2009-09-11      2009-12-21   \n",
       "...               ...              ...             ...   \n",
       "66290               1       2013-01-29      2013-01-29   \n",
       "66291               3       2014-03-24      2015-02-25   \n",
       "66292               1       2012-04-01      2012-04-01   \n",
       "66293               4       2011-11-01      2014-03-01   \n",
       "66295               1       2015-01-01      2015-01-01   \n",
       "\n",
       "                                           category_list  label  \n",
       "0                                                  Media      0  \n",
       "1      Application Platforms|Real Time|Social Network...      0  \n",
       "3                                            Curated Web      0  \n",
       "5                                                  Games      0  \n",
       "6                                          Biotechnology      0  \n",
       "...                                                  ...    ...  \n",
       "66290                                      Biotechnology      0  \n",
       "66291  Analytics|Android|Developer APIs|Education|Gam...      0  \n",
       "66292                                Enterprise Software      0  \n",
       "66293        Advertising|Mobile|Web Development|Wireless      0  \n",
       "66295  Consumer Electronics|Internet of Things|Teleco...      0  \n",
       "\n",
       "[48404 rows x 8 columns]"
      ]
     },
     "execution_count": 30,
     "metadata": {},
     "output_type": "execute_result"
    }
   ],
   "source": [
    "LogReg_data.info()\n",
    "LogReg_data"
   ]
  },
  {
   "cell_type": "code",
   "execution_count": 31,
   "metadata": {},
   "outputs": [],
   "source": [
    "# first balance the dataset\n",
    "LogReg_data_balanced = balance(LogReg_data)"
   ]
  },
  {
   "cell_type": "code",
   "execution_count": 32,
   "metadata": {},
   "outputs": [
    {
     "name": "stdout",
     "output_type": "stream",
     "text": [
      "<class 'pandas.core.frame.DataFrame'>\n",
      "Int64Index: 11952 entries, 15 to 20949\n",
      "Data columns (total 8 columns):\n",
      " #   Column             Non-Null Count  Dtype  \n",
      "---  ------             --------------  -----  \n",
      " 0   name               11952 non-null  object \n",
      " 1   funding_total_usd  11952 non-null  float64\n",
      " 2   country_code       11952 non-null  object \n",
      " 3   funding_rounds     11952 non-null  int64  \n",
      " 4   first_funding_at   11952 non-null  object \n",
      " 5   last_funding_at    11952 non-null  object \n",
      " 6   category_list      11952 non-null  object \n",
      " 7   label              11952 non-null  int64  \n",
      "dtypes: float64(1), int64(2), object(5)\n",
      "memory usage: 840.4+ KB\n"
     ]
    }
   ],
   "source": [
    "LogReg_data_balanced.info()"
   ]
  },
  {
   "cell_type": "code",
   "execution_count": 33,
   "metadata": {},
   "outputs": [
    {
     "data": {
      "text/plain": [
       "name                                    Miaopai\n",
       "funding_total_usd                   250000000.0\n",
       "country_code                                CHN\n",
       "funding_rounds                                2\n",
       "first_funding_at                     2014-09-25\n",
       "last_funding_at                      2015-11-24\n",
       "category_list        Apps|Venture Capital|Video\n",
       "label                                         0\n",
       "Name: 35632, dtype: object"
      ]
     },
     "execution_count": 33,
     "metadata": {},
     "output_type": "execute_result"
    }
   ],
   "source": [
    "LogReg_data_balanced.loc[35632]"
   ]
  },
  {
   "cell_type": "code",
   "execution_count": 34,
   "metadata": {},
   "outputs": [],
   "source": [
    "# # Encode 'category' features, label them with values between 0 and n_classes-1\n",
    "# df = LogReg_data_balanced\n",
    "# col = 'category_1'\n",
    "# le = preprocessing.LabelEncoder()\n",
    "# col_label = le.fit_transform(list(df[col]))\n",
    "# df[col + '_encode']= col_label #pd.Series(col_label)"
   ]
  },
  {
   "cell_type": "code",
   "execution_count": 35,
   "metadata": {},
   "outputs": [
    {
     "data": {
      "text/plain": [
       "name                                    Miaopai\n",
       "funding_total_usd                   250000000.0\n",
       "country_code                                CHN\n",
       "funding_rounds                                2\n",
       "first_funding_at                     2014-09-25\n",
       "last_funding_at                      2015-11-24\n",
       "category_list        Apps|Venture Capital|Video\n",
       "label                                         0\n",
       "Name: 35632, dtype: object"
      ]
     },
     "execution_count": 35,
     "metadata": {},
     "output_type": "execute_result"
    }
   ],
   "source": [
    "LogReg_data_balanced.loc[35632]"
   ]
  },
  {
   "cell_type": "code",
   "execution_count": 36,
   "metadata": {},
   "outputs": [],
   "source": [
    "# Encode 'category' features, label them with values between 0 and n_classes-1\n",
    "def encoder_cat(df, col):\n",
    "    le = preprocessing.LabelEncoder()\n",
    "    col_label = le.fit_transform(list(df[col]))\n",
    "    df[col]=col_label\n",
    "    return le"
   ]
  },
  {
   "cell_type": "code",
   "execution_count": 37,
   "metadata": {},
   "outputs": [],
   "source": [
    "# encode text features\n",
    "def encoder_text(df, col, min_df=10):\n",
    "    df[col] = df[col].astype(str)\n",
    "    vectorizer = CountVectorizer(min_df=min_df)\n",
    "    vectorizer.fit(df[col])\n",
    "    col_bag_of_words = vectorizer.transform(df[col])\n",
    "    return col_bag_of_words"
   ]
  },
  {
   "cell_type": "code",
   "execution_count": 38,
   "metadata": {},
   "outputs": [],
   "source": [
    "# Only run once !!!\n",
    "country_list = encoder_cat(LogReg_data_balanced, 'country_code')\n",
    "category_list = encoder_cat(LogReg_data_balanced, 'category_list')"
   ]
  },
  {
   "cell_type": "code",
   "execution_count": 39,
   "metadata": {},
   "outputs": [
    {
     "data": {
      "text/html": [
       "<div>\n",
       "<style scoped>\n",
       "    .dataframe tbody tr th:only-of-type {\n",
       "        vertical-align: middle;\n",
       "    }\n",
       "\n",
       "    .dataframe tbody tr th {\n",
       "        vertical-align: top;\n",
       "    }\n",
       "\n",
       "    .dataframe thead th {\n",
       "        text-align: right;\n",
       "    }\n",
       "</style>\n",
       "<table border=\"1\" class=\"dataframe\">\n",
       "  <thead>\n",
       "    <tr style=\"text-align: right;\">\n",
       "      <th></th>\n",
       "      <th>name</th>\n",
       "      <th>funding_total_usd</th>\n",
       "      <th>country_code</th>\n",
       "      <th>funding_rounds</th>\n",
       "      <th>first_funding_at</th>\n",
       "      <th>last_funding_at</th>\n",
       "      <th>category_list</th>\n",
       "      <th>label</th>\n",
       "    </tr>\n",
       "  </thead>\n",
       "  <tbody>\n",
       "    <tr>\n",
       "      <th>15</th>\n",
       "      <td>1 Mainstream</td>\n",
       "      <td>5000000.0</td>\n",
       "      <td>82</td>\n",
       "      <td>1</td>\n",
       "      <td>2015-03-17</td>\n",
       "      <td>2015-03-17</td>\n",
       "      <td>984</td>\n",
       "      <td>1</td>\n",
       "    </tr>\n",
       "    <tr>\n",
       "      <th>20</th>\n",
       "      <td>1000 Markets</td>\n",
       "      <td>500000.0</td>\n",
       "      <td>82</td>\n",
       "      <td>1</td>\n",
       "      <td>2009-05-15</td>\n",
       "      <td>2009-05-15</td>\n",
       "      <td>1193</td>\n",
       "      <td>1</td>\n",
       "    </tr>\n",
       "    <tr>\n",
       "      <th>23</th>\n",
       "      <td>1000memories</td>\n",
       "      <td>2535000.0</td>\n",
       "      <td>82</td>\n",
       "      <td>2</td>\n",
       "      <td>2010-01-01</td>\n",
       "      <td>2011-02-16</td>\n",
       "      <td>2817</td>\n",
       "      <td>1</td>\n",
       "    </tr>\n",
       "    <tr>\n",
       "      <th>31</th>\n",
       "      <td>100Plus</td>\n",
       "      <td>1250000.0</td>\n",
       "      <td>82</td>\n",
       "      <td>2</td>\n",
       "      <td>2011-11-02</td>\n",
       "      <td>2011-11-30</td>\n",
       "      <td>552</td>\n",
       "      <td>1</td>\n",
       "    </tr>\n",
       "    <tr>\n",
       "      <th>32</th>\n",
       "      <td>1010data</td>\n",
       "      <td>35000000.0</td>\n",
       "      <td>82</td>\n",
       "      <td>1</td>\n",
       "      <td>2010-03-08</td>\n",
       "      <td>2010-03-08</td>\n",
       "      <td>5377</td>\n",
       "      <td>1</td>\n",
       "    </tr>\n",
       "    <tr>\n",
       "      <th>...</th>\n",
       "      <td>...</td>\n",
       "      <td>...</td>\n",
       "      <td>...</td>\n",
       "      <td>...</td>\n",
       "      <td>...</td>\n",
       "      <td>...</td>\n",
       "      <td>...</td>\n",
       "      <td>...</td>\n",
       "    </tr>\n",
       "    <tr>\n",
       "      <th>37610</th>\n",
       "      <td>MyClasses</td>\n",
       "      <td>38598.0</td>\n",
       "      <td>19</td>\n",
       "      <td>1</td>\n",
       "      <td>2012-10-01</td>\n",
       "      <td>2012-10-01</td>\n",
       "      <td>539</td>\n",
       "      <td>0</td>\n",
       "    </tr>\n",
       "    <tr>\n",
       "      <th>59402</th>\n",
       "      <td>Triptable</td>\n",
       "      <td>40000.0</td>\n",
       "      <td>62</td>\n",
       "      <td>2</td>\n",
       "      <td>2014-10-14</td>\n",
       "      <td>2015-03-15</td>\n",
       "      <td>3519</td>\n",
       "      <td>0</td>\n",
       "    </tr>\n",
       "    <tr>\n",
       "      <th>51944</th>\n",
       "      <td>Sitter Inc.</td>\n",
       "      <td>140000.0</td>\n",
       "      <td>82</td>\n",
       "      <td>1</td>\n",
       "      <td>2015-08-21</td>\n",
       "      <td>2015-08-21</td>\n",
       "      <td>1350</td>\n",
       "      <td>0</td>\n",
       "    </tr>\n",
       "    <tr>\n",
       "      <th>24551</th>\n",
       "      <td>HackerEarth</td>\n",
       "      <td>500000.0</td>\n",
       "      <td>34</td>\n",
       "      <td>2</td>\n",
       "      <td>2013-06-01</td>\n",
       "      <td>2014-02-24</td>\n",
       "      <td>5377</td>\n",
       "      <td>0</td>\n",
       "    </tr>\n",
       "    <tr>\n",
       "      <th>20949</th>\n",
       "      <td>Flowonix</td>\n",
       "      <td>65000000.0</td>\n",
       "      <td>82</td>\n",
       "      <td>3</td>\n",
       "      <td>2012-05-24</td>\n",
       "      <td>2014-11-11</td>\n",
       "      <td>4356</td>\n",
       "      <td>0</td>\n",
       "    </tr>\n",
       "  </tbody>\n",
       "</table>\n",
       "<p>11952 rows × 8 columns</p>\n",
       "</div>"
      ],
      "text/plain": [
       "               name  funding_total_usd  country_code  funding_rounds  \\\n",
       "15     1 Mainstream          5000000.0            82               1   \n",
       "20     1000 Markets           500000.0            82               1   \n",
       "23     1000memories          2535000.0            82               2   \n",
       "31          100Plus          1250000.0            82               2   \n",
       "32         1010data         35000000.0            82               1   \n",
       "...             ...                ...           ...             ...   \n",
       "37610     MyClasses            38598.0            19               1   \n",
       "59402     Triptable            40000.0            62               2   \n",
       "51944   Sitter Inc.           140000.0            82               1   \n",
       "24551   HackerEarth           500000.0            34               2   \n",
       "20949      Flowonix         65000000.0            82               3   \n",
       "\n",
       "      first_funding_at last_funding_at  category_list  label  \n",
       "15          2015-03-17      2015-03-17            984      1  \n",
       "20          2009-05-15      2009-05-15           1193      1  \n",
       "23          2010-01-01      2011-02-16           2817      1  \n",
       "31          2011-11-02      2011-11-30            552      1  \n",
       "32          2010-03-08      2010-03-08           5377      1  \n",
       "...                ...             ...            ...    ...  \n",
       "37610       2012-10-01      2012-10-01            539      0  \n",
       "59402       2014-10-14      2015-03-15           3519      0  \n",
       "51944       2015-08-21      2015-08-21           1350      0  \n",
       "24551       2013-06-01      2014-02-24           5377      0  \n",
       "20949       2012-05-24      2014-11-11           4356      0  \n",
       "\n",
       "[11952 rows x 8 columns]"
      ]
     },
     "execution_count": 39,
     "metadata": {},
     "output_type": "execute_result"
    }
   ],
   "source": [
    "LogReg_data_balanced"
   ]
  },
  {
   "cell_type": "code",
   "execution_count": 40,
   "metadata": {},
   "outputs": [
    {
     "data": {
      "text/plain": [
       "array(['ARE', 'ARG', 'AUS', 'AUT', 'BEL', 'BGD', 'BGR', 'BMU', 'BRA',\n",
       "       'BWA', 'CAN', 'CHE', 'CHL', 'CHN', 'COL', 'CYP', 'CZE', 'DEU',\n",
       "       'DNK', 'DOM', 'ECU', 'EGY', 'ESP', 'EST', 'FIN', 'FRA', 'GBR',\n",
       "       'GHA', 'GRC', 'GTM', 'HKG', 'HRV', 'HUN', 'IDN', 'IND', 'IRL',\n",
       "       'ISL', 'ISR', 'ITA', 'JOR', 'JPN', 'KEN', 'KHM', 'KOR', 'LBN',\n",
       "       'LKA', 'LTU', 'LUX', 'LVA', 'MAF', 'MCO', 'MDA', 'MEX', 'MLT',\n",
       "       'MNE', 'MYS', 'NGA', 'NIC', 'NLD', 'NOR', 'NZL', 'PAK', 'PAN',\n",
       "       'PER', 'PHL', 'POL', 'PRT', 'QAT', 'ROM', 'RUS', 'SAU', 'SGP',\n",
       "       'SRB', 'SVK', 'SVN', 'SWE', 'THA', 'TUN', 'TUR', 'TWN', 'UKR',\n",
       "       'URY', 'USA', 'VEN', 'VNM', 'ZAF', 'ZMB', 'ZWE'], dtype='<U3')"
      ]
     },
     "execution_count": 40,
     "metadata": {},
     "output_type": "execute_result"
    }
   ],
   "source": [
    "country_list.classes_"
   ]
  },
  {
   "cell_type": "code",
   "execution_count": 41,
   "metadata": {},
   "outputs": [
    {
     "data": {
      "text/plain": [
       "array(['3D Printing', '3D Printing|Art|Beauty|Fashion',\n",
       "       '3D Printing|Biotechnology|Health and Wellness', ...,\n",
       "       'iPhone|News', 'iPhone|Software|Sports|Windows Phone 7',\n",
       "       'mHealth|Mobile'], dtype='<U328')"
      ]
     },
     "execution_count": 41,
     "metadata": {},
     "output_type": "execute_result"
    }
   ],
   "source": [
    "category_list.classes_"
   ]
  },
  {
   "cell_type": "code",
   "execution_count": 42,
   "metadata": {},
   "outputs": [],
   "source": [
    "# calculate the duration between 'first_funding_at' and 'last_funding_at'\n",
    "t1 = pd.to_datetime(LogReg_data_balanced.first_funding_at, errors='coerce')\n",
    "t2 = pd.to_datetime(LogReg_data_balanced.last_funding_at, errors='coerce')"
   ]
  },
  {
   "cell_type": "code",
   "execution_count": 43,
   "metadata": {},
   "outputs": [],
   "source": [
    "LogReg_data_balanced['funding_duration'] = t2 - t1\n"
   ]
  },
  {
   "cell_type": "code",
   "execution_count": 44,
   "metadata": {},
   "outputs": [],
   "source": [
    "LogReg_data_balanced['funding_duration'] = LogReg_data_balanced['funding_duration'].dt.days"
   ]
  },
  {
   "cell_type": "code",
   "execution_count": 45,
   "metadata": {},
   "outputs": [
    {
     "data": {
      "text/html": [
       "<div>\n",
       "<style scoped>\n",
       "    .dataframe tbody tr th:only-of-type {\n",
       "        vertical-align: middle;\n",
       "    }\n",
       "\n",
       "    .dataframe tbody tr th {\n",
       "        vertical-align: top;\n",
       "    }\n",
       "\n",
       "    .dataframe thead th {\n",
       "        text-align: right;\n",
       "    }\n",
       "</style>\n",
       "<table border=\"1\" class=\"dataframe\">\n",
       "  <thead>\n",
       "    <tr style=\"text-align: right;\">\n",
       "      <th></th>\n",
       "      <th>name</th>\n",
       "      <th>funding_total_usd</th>\n",
       "      <th>country_code</th>\n",
       "      <th>funding_rounds</th>\n",
       "      <th>first_funding_at</th>\n",
       "      <th>last_funding_at</th>\n",
       "      <th>category_list</th>\n",
       "      <th>label</th>\n",
       "      <th>funding_duration</th>\n",
       "    </tr>\n",
       "  </thead>\n",
       "  <tbody>\n",
       "    <tr>\n",
       "      <th>15</th>\n",
       "      <td>1 Mainstream</td>\n",
       "      <td>5000000.0</td>\n",
       "      <td>82</td>\n",
       "      <td>1</td>\n",
       "      <td>2015-03-17</td>\n",
       "      <td>2015-03-17</td>\n",
       "      <td>984</td>\n",
       "      <td>1</td>\n",
       "      <td>0</td>\n",
       "    </tr>\n",
       "    <tr>\n",
       "      <th>20</th>\n",
       "      <td>1000 Markets</td>\n",
       "      <td>500000.0</td>\n",
       "      <td>82</td>\n",
       "      <td>1</td>\n",
       "      <td>2009-05-15</td>\n",
       "      <td>2009-05-15</td>\n",
       "      <td>1193</td>\n",
       "      <td>1</td>\n",
       "      <td>0</td>\n",
       "    </tr>\n",
       "    <tr>\n",
       "      <th>23</th>\n",
       "      <td>1000memories</td>\n",
       "      <td>2535000.0</td>\n",
       "      <td>82</td>\n",
       "      <td>2</td>\n",
       "      <td>2010-01-01</td>\n",
       "      <td>2011-02-16</td>\n",
       "      <td>2817</td>\n",
       "      <td>1</td>\n",
       "      <td>411</td>\n",
       "    </tr>\n",
       "    <tr>\n",
       "      <th>31</th>\n",
       "      <td>100Plus</td>\n",
       "      <td>1250000.0</td>\n",
       "      <td>82</td>\n",
       "      <td>2</td>\n",
       "      <td>2011-11-02</td>\n",
       "      <td>2011-11-30</td>\n",
       "      <td>552</td>\n",
       "      <td>1</td>\n",
       "      <td>28</td>\n",
       "    </tr>\n",
       "    <tr>\n",
       "      <th>32</th>\n",
       "      <td>1010data</td>\n",
       "      <td>35000000.0</td>\n",
       "      <td>82</td>\n",
       "      <td>1</td>\n",
       "      <td>2010-03-08</td>\n",
       "      <td>2010-03-08</td>\n",
       "      <td>5377</td>\n",
       "      <td>1</td>\n",
       "      <td>0</td>\n",
       "    </tr>\n",
       "  </tbody>\n",
       "</table>\n",
       "</div>"
      ],
      "text/plain": [
       "            name  funding_total_usd  country_code  funding_rounds  \\\n",
       "15  1 Mainstream          5000000.0            82               1   \n",
       "20  1000 Markets           500000.0            82               1   \n",
       "23  1000memories          2535000.0            82               2   \n",
       "31       100Plus          1250000.0            82               2   \n",
       "32      1010data         35000000.0            82               1   \n",
       "\n",
       "   first_funding_at last_funding_at  category_list  label  funding_duration  \n",
       "15       2015-03-17      2015-03-17            984      1                 0  \n",
       "20       2009-05-15      2009-05-15           1193      1                 0  \n",
       "23       2010-01-01      2011-02-16           2817      1               411  \n",
       "31       2011-11-02      2011-11-30            552      1                28  \n",
       "32       2010-03-08      2010-03-08           5377      1                 0  "
      ]
     },
     "execution_count": 45,
     "metadata": {},
     "output_type": "execute_result"
    }
   ],
   "source": [
    "LogReg_data_balanced.head()"
   ]
  },
  {
   "cell_type": "code",
   "execution_count": 46,
   "metadata": {},
   "outputs": [],
   "source": [
    "X = LogReg_data_balanced[['funding_total_usd','funding_rounds','funding_duration','category_list','country_code']]"
   ]
  },
  {
   "cell_type": "code",
   "execution_count": 47,
   "metadata": {},
   "outputs": [
    {
     "data": {
      "image/png": "[encoded data removed]",
      "text/plain": [
       "<Figure size 1000x800 with 2 Axes>"
      ]
     },
     "metadata": {},
     "output_type": "display_data"
    }
   ],
   "source": [
    "# plot the correlation between the features\n",
    "corr = sb.heatmap(X.corr())\n",
    "fig = corr.get_figure()\n",
    "fig.savefig('corr.png') "
   ]
  },
  {
   "cell_type": "code",
   "execution_count": 48,
   "metadata": {},
   "outputs": [
    {
     "name": "stdout",
     "output_type": "stream",
     "text": [
      "<class 'pandas.core.frame.DataFrame'>\n",
      "Int64Index: 11952 entries, 15 to 20949\n",
      "Data columns (total 5 columns):\n",
      " #   Column             Non-Null Count  Dtype  \n",
      "---  ------             --------------  -----  \n",
      " 0   funding_total_usd  11952 non-null  float64\n",
      " 1   funding_rounds     11952 non-null  int64  \n",
      " 2   funding_duration   11952 non-null  int64  \n",
      " 3   category_list      11952 non-null  int64  \n",
      " 4   country_code       11952 non-null  int64  \n",
      "dtypes: float64(1), int64(4)\n",
      "memory usage: 818.3 KB\n"
     ]
    }
   ],
   "source": [
    "X.info()"
   ]
  },
  {
   "cell_type": "code",
   "execution_count": 49,
   "metadata": {},
   "outputs": [
    {
     "name": "stdout",
     "output_type": "stream",
     "text": [
      "<class 'pandas.core.frame.DataFrame'>\n",
      "Int64Index: 11952 entries, 15 to 20949\n",
      "Data columns (total 5 columns):\n",
      " #   Column             Non-Null Count  Dtype   \n",
      "---  ------             --------------  -----   \n",
      " 0   funding_total_usd  11952 non-null  float64 \n",
      " 1   funding_rounds     11952 non-null  int64   \n",
      " 2   funding_duration   11952 non-null  int64   \n",
      " 3   category_list      11952 non-null  category\n",
      " 4   country_code       11952 non-null  category\n",
      "dtypes: category(2), float64(1), int64(2)\n",
      "memory usage: 841.1 KB\n"
     ]
    },
    {
     "name": "stderr",
     "output_type": "stream",
     "text": [
      "C:\\Users\\ADMIN\\AppData\\Local\\Temp\\ipykernel_20120\\67172798.py:1: SettingWithCopyWarning: \n",
      "A value is trying to be set on a copy of a slice from a DataFrame.\n",
      "Try using .loc[row_indexer,col_indexer] = value instead\n",
      "\n",
      "See the caveats in the documentation: https://pandas.pydata.org/pandas-docs/stable/user_guide/indexing.html#returning-a-view-versus-a-copy\n",
      "  X['category_list'] = pd.Categorical(X['category_list'])\n",
      "C:\\Users\\ADMIN\\AppData\\Local\\Temp\\ipykernel_20120\\67172798.py:2: SettingWithCopyWarning: \n",
      "A value is trying to be set on a copy of a slice from a DataFrame.\n",
      "Try using .loc[row_indexer,col_indexer] = value instead\n",
      "\n",
      "See the caveats in the documentation: https://pandas.pydata.org/pandas-docs/stable/user_guide/indexing.html#returning-a-view-versus-a-copy\n",
      "  X['country_code'] = pd.Categorical(X['country_code'])\n"
     ]
    }
   ],
   "source": [
    "X['category_list'] = pd.Categorical(X['category_list'])\n",
    "X['country_code'] = pd.Categorical(X['country_code'])\n",
    "X.info()"
   ]
  },
  {
   "cell_type": "code",
   "execution_count": 50,
   "metadata": {},
   "outputs": [],
   "source": [
    "y = LogReg_data_balanced.label"
   ]
  },
  {
   "cell_type": "code",
   "execution_count": 51,
   "metadata": {},
   "outputs": [
    {
     "data": {
      "text/plain": [
       "array([[5.000e+06, 1.000e+00, 0.000e+00, 9.840e+02, 8.200e+01],\n",
       "       [5.000e+05, 1.000e+00, 0.000e+00, 1.193e+03, 8.200e+01],\n",
       "       [2.535e+06, 2.000e+00, 4.110e+02, 2.817e+03, 8.200e+01],\n",
       "       ...,\n",
       "       [1.400e+05, 1.000e+00, 0.000e+00, 1.350e+03, 8.200e+01],\n",
       "       [5.000e+05, 2.000e+00, 2.680e+02, 5.377e+03, 3.400e+01],\n",
       "       [6.500e+07, 3.000e+00, 9.010e+02, 4.356e+03, 8.200e+01]])"
      ]
     },
     "execution_count": 51,
     "metadata": {},
     "output_type": "execute_result"
    }
   ],
   "source": [
    "X.values"
   ]
  },
  {
   "cell_type": "code",
   "execution_count": 52,
   "metadata": {},
   "outputs": [],
   "source": [
    "from sklearn.compose import ColumnTransformer\n",
    "from sklearn.preprocessing import OneHotEncoder\n",
    "\n",
    "# assuming X is your input data\n",
    "column_transformer = ColumnTransformer(\n",
    "    transformers=[\n",
    "        (\"onehot\", OneHotEncoder(), [-1, -2])  # apply one-hot encoding to the last two columns\n",
    "    ],\n",
    "    remainder=\"passthrough\"  # passthrough the remaining columns without any transformation\n",
    ")\n",
    "X = column_transformer.fit_transform(X).toarray()\n"
   ]
  },
  {
   "cell_type": "code",
   "execution_count": null,
   "metadata": {},
   "outputs": [],
   "source": []
  },
  {
   "cell_type": "code",
   "execution_count": 53,
   "metadata": {},
   "outputs": [
    {
     "data": {
      "text/plain": [
       "StandardScaler(with_mean=False)"
      ]
     },
     "execution_count": 53,
     "metadata": {},
     "output_type": "execute_result"
    }
   ],
   "source": [
    "from sklearn.model_selection import train_test_split\n",
    "from sklearn.preprocessing import StandardScaler\n",
    "\n",
    "X_train, X_test, y_train, y_test = train_test_split(X, y, test_size=0.2, random_state=2)\n",
    "scaler = StandardScaler(with_mean=False)\n",
    "scaler.fit(X_train[:, -3:])"
   ]
  },
  {
   "cell_type": "code",
   "execution_count": null,
   "metadata": {},
   "outputs": [],
   "source": []
  },
  {
   "cell_type": "code",
   "execution_count": 54,
   "metadata": {},
   "outputs": [],
   "source": [
    "X_train = np.hstack([X_train[:, :-3], scaler.transform(X_train[:, -3:])])\n",
    "X_test = np.hstack([X_test[:, :-3], scaler.transform(X_test[:, -3:])])"
   ]
  },
  {
   "cell_type": "code",
   "execution_count": null,
   "metadata": {},
   "outputs": [],
   "source": []
  },
  {
   "cell_type": "code",
   "execution_count": 55,
   "metadata": {},
   "outputs": [
    {
     "data": {
      "text/plain": [
       "RandomForestClassifier(n_estimators=50)"
      ]
     },
     "execution_count": 55,
     "metadata": {},
     "output_type": "execute_result"
    }
   ],
   "source": [
    "model = sklearn.ensemble.RandomForestClassifier(n_estimators=50) \n",
    "#model = LogisticRegression()\n",
    "\n",
    "model.fit(X_train, y_train)"
   ]
  },
  {
   "cell_type": "code",
   "execution_count": 56,
   "metadata": {},
   "outputs": [
    {
     "data": {
      "text/plain": [
       "0.9873444200397448"
      ]
     },
     "execution_count": 56,
     "metadata": {},
     "output_type": "execute_result"
    }
   ],
   "source": [
    "y_pred = model.predict(X_train)\n",
    "accuracy_score(y_train, y_pred)"
   ]
  },
  {
   "cell_type": "code",
   "execution_count": 57,
   "metadata": {},
   "outputs": [
    {
     "data": {
      "text/plain": [
       "0.6808866583019657"
      ]
     },
     "execution_count": 57,
     "metadata": {},
     "output_type": "execute_result"
    }
   ],
   "source": [
    "y_pred = model.predict(X_test)\n",
    "accuracy_score(y_test, y_pred)"
   ]
  },
  {
   "cell_type": "code",
   "execution_count": 58,
   "metadata": {},
   "outputs": [
    {
     "data": {
      "text/plain": [
       "0        IND\n",
       "1        USA\n",
       "3        CHN\n",
       "5        HKG\n",
       "6        CAN\n",
       "        ... \n",
       "66290    AUT\n",
       "66291    GBR\n",
       "66292    CHN\n",
       "66293    HRV\n",
       "66295    USA\n",
       "Name: country_code, Length: 48404, dtype: object"
      ]
     },
     "execution_count": 58,
     "metadata": {},
     "output_type": "execute_result"
    }
   ],
   "source": [
    "comp_data['country_code']"
   ]
  },
  {
   "cell_type": "code",
   "execution_count": 59,
   "metadata": {},
   "outputs": [],
   "source": [
    "pickle.dump(model, open(\"Sucess_model.pkl\",\"wb\")) "
   ]
  },
  {
   "cell_type": "code",
   "execution_count": 60,
   "metadata": {},
   "outputs": [],
   "source": [
    "#model = pickle.load(open(\"Sucess_model.pkl\", \"rb\"))"
   ]
  },
  {
   "cell_type": "code",
   "execution_count": 61,
   "metadata": {},
   "outputs": [
    {
     "name": "stderr",
     "output_type": "stream",
     "text": [
      "IOPub data rate exceeded.\n",
      "The notebook server will temporarily stop sending output\n",
      "to the client in order to avoid crashing it.\n",
      "To change this limit, set the config variable\n",
      "`--NotebookApp.iopub_data_rate_limit`.\n",
      "\n",
      "Current values:\n",
      "NotebookApp.iopub_data_rate_limit=1000000.0 (bytes/sec)\n",
      "NotebookApp.rate_limit_window=3.0 (secs)\n",
      "\n"
     ]
    }
   ],
   "source": [
    "import pickle\n",
    "import pickletools\n",
    "\n",
    "# Load the pickled model from the file\n",
    "with open(\"Sucess_model.pkl\", \"rb\") as f:\n",
    "    model_pickle = f.read()\n",
    "\n",
    "# Disassemble the pickle file to get a human-readable representation\n",
    "pickletools.dis(model_pickle)\n",
    "\n",
    "\n",
    "\n"
   ]
  },
  {
   "cell_type": "code",
   "execution_count": 62,
   "metadata": {},
   "outputs": [
    {
     "name": "stdout",
     "output_type": "stream",
     "text": [
      "{'base_estimator': DecisionTreeClassifier(), 'n_estimators': 50, 'estimator_params': ('criterion', 'max_depth', 'min_samples_split', 'min_samples_leaf', 'min_weight_fraction_leaf', 'max_features', 'max_leaf_nodes', 'min_impurity_decrease', 'random_state', 'ccp_alpha'), 'bootstrap': True, 'oob_score': False, 'n_jobs': None, 'random_state': None, 'verbose': 0, 'warm_start': False, 'class_weight': None, 'max_samples': None, 'criterion': 'gini', 'max_depth': None, 'min_samples_split': 2, 'min_samples_leaf': 1, 'min_weight_fraction_leaf': 0.0, 'max_features': 'auto', 'max_leaf_nodes': None, 'min_impurity_decrease': 0.0, 'ccp_alpha': 0.0, 'n_features_in_': 5561, 'n_outputs_': 1, 'classes_': array([0, 1], dtype=int64), 'n_classes_': 2, 'base_estimator_': DecisionTreeClassifier(), 'estimators_': [DecisionTreeClassifier(max_features='auto', random_state=522067910), DecisionTreeClassifier(max_features='auto', random_state=1225314227), DecisionTreeClassifier(max_features='auto', random_state=1945384868), DecisionTreeClassifier(max_features='auto', random_state=2105079172), DecisionTreeClassifier(max_features='auto', random_state=1974586260), DecisionTreeClassifier(max_features='auto', random_state=1288349917), DecisionTreeClassifier(max_features='auto', random_state=1743532156), DecisionTreeClassifier(max_features='auto', random_state=1145502572), DecisionTreeClassifier(max_features='auto', random_state=1605261836), DecisionTreeClassifier(max_features='auto', random_state=1923204546), DecisionTreeClassifier(max_features='auto', random_state=940216609), DecisionTreeClassifier(max_features='auto', random_state=53742917), DecisionTreeClassifier(max_features='auto', random_state=1879910443), DecisionTreeClassifier(max_features='auto', random_state=960938326), DecisionTreeClassifier(max_features='auto', random_state=1715804330), DecisionTreeClassifier(max_features='auto', random_state=493064814), DecisionTreeClassifier(max_features='auto', random_state=1095688160), DecisionTreeClassifier(max_features='auto', random_state=99660873), DecisionTreeClassifier(max_features='auto', random_state=634773548), DecisionTreeClassifier(max_features='auto', random_state=872623022), DecisionTreeClassifier(max_features='auto', random_state=1234833615), DecisionTreeClassifier(max_features='auto', random_state=1542456189), DecisionTreeClassifier(max_features='auto', random_state=1826294197), DecisionTreeClassifier(max_features='auto', random_state=1540006302), DecisionTreeClassifier(max_features='auto', random_state=984938701), DecisionTreeClassifier(max_features='auto', random_state=436411509), DecisionTreeClassifier(max_features='auto', random_state=372128163), DecisionTreeClassifier(max_features='auto', random_state=933078498), DecisionTreeClassifier(max_features='auto', random_state=1751577378), DecisionTreeClassifier(max_features='auto', random_state=283676275), DecisionTreeClassifier(max_features='auto', random_state=1567535490), DecisionTreeClassifier(max_features='auto', random_state=1424994058), DecisionTreeClassifier(max_features='auto', random_state=375400549), DecisionTreeClassifier(max_features='auto', random_state=1262401396), DecisionTreeClassifier(max_features='auto', random_state=361319563), DecisionTreeClassifier(max_features='auto', random_state=1732887315), DecisionTreeClassifier(max_features='auto', random_state=1380546978), DecisionTreeClassifier(max_features='auto', random_state=1377668039), DecisionTreeClassifier(max_features='auto', random_state=205817279), DecisionTreeClassifier(max_features='auto', random_state=507290491), DecisionTreeClassifier(max_features='auto', random_state=1067145360), DecisionTreeClassifier(max_features='auto', random_state=2068420815), DecisionTreeClassifier(max_features='auto', random_state=879418141), DecisionTreeClassifier(max_features='auto', random_state=30777873), DecisionTreeClassifier(max_features='auto', random_state=1873254817), DecisionTreeClassifier(max_features='auto', random_state=1509016742), DecisionTreeClassifier(max_features='auto', random_state=98985946), DecisionTreeClassifier(max_features='auto', random_state=865398176), DecisionTreeClassifier(max_features='auto', random_state=209094813), DecisionTreeClassifier(max_features='auto', random_state=1383227100)]}\n"
     ]
    }
   ],
   "source": [
    "\n",
    "\n",
    "# Alternatively, you can print the list of attributes and their order directly from the model\n",
    "print(model.__dict__)"
   ]
  },
  {
   "cell_type": "code",
   "execution_count": null,
   "metadata": {},
   "outputs": [],
   "source": []
  }
 ],
 "metadata": {
  "kernelspec": {
   "display_name": "Python 3 (ipykernel)",
   "language": "python",
   "name": "python3"
  },
  "language_info": {
   "codemirror_mode": {
    "name": "ipython",
    "version": 3
   },
   "file_extension": ".py",
   "mimetype": "text/x-python",
   "name": "python",
   "nbconvert_exporter": "python",
   "pygments_lexer": "ipython3",
   "version": "3.9.13"
  }
 },
 "nbformat": 4,
 "nbformat_minor": 2
}
